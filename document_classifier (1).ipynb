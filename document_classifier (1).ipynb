{
  "cells": [
    {
      "cell_type": "markdown",
      "source": [
        "## Document Classification using NLP, Machine Learning\n",
        "### Objective\n",
        "Perform document classification into four defined categories (World, Sports, Business, Sci/Tech). Compare the classifier accuracy with different models ranging from Naïve Bayes to Convolutional Neural Network (CNN) and RCNN. By making use of different feature engineering techniques and extra Natural Language Processing (NLP) features create an accurate text classifier.\n"
      ],
      "metadata": {
        "collapsed": false,
        "pycharm": {
          "name": "#%% md\n"
        },
        "id": "DxRnqb_2wAAO"
      }
    },
    {
      "cell_type": "code",
      "execution_count": 3,
      "metadata": {
        "collapsed": true,
        "pycharm": {
          "is_executing": false
        },
        "colab": {
          "base_uri": "https://localhost:8080/"
        },
        "id": "MF6xNabTwAAP",
        "outputId": "3a8fd9af-f317-4a83-fb51-f2d3be6fda5e"
      },
      "outputs": [
        {
          "output_type": "stream",
          "name": "stdout",
          "text": [
            "Requirement already satisfied: keras in /usr/local/lib/python3.10/dist-packages (3.4.1)\n",
            "Collecting keras\n",
            "  Downloading keras-3.5.0-py3-none-any.whl.metadata (5.8 kB)\n",
            "Requirement already satisfied: tensorflow in /usr/local/lib/python3.10/dist-packages (2.17.0)\n",
            "Requirement already satisfied: absl-py in /usr/local/lib/python3.10/dist-packages (from keras) (1.4.0)\n",
            "Requirement already satisfied: numpy in /usr/local/lib/python3.10/dist-packages (from keras) (1.26.4)\n",
            "Requirement already satisfied: rich in /usr/local/lib/python3.10/dist-packages (from keras) (13.8.0)\n",
            "Requirement already satisfied: namex in /usr/local/lib/python3.10/dist-packages (from keras) (0.0.8)\n",
            "Requirement already satisfied: h5py in /usr/local/lib/python3.10/dist-packages (from keras) (3.11.0)\n",
            "Requirement already satisfied: optree in /usr/local/lib/python3.10/dist-packages (from keras) (0.12.1)\n",
            "Requirement already satisfied: ml-dtypes in /usr/local/lib/python3.10/dist-packages (from keras) (0.4.0)\n",
            "Requirement already satisfied: packaging in /usr/local/lib/python3.10/dist-packages (from keras) (24.1)\n",
            "Requirement already satisfied: astunparse>=1.6.0 in /usr/local/lib/python3.10/dist-packages (from tensorflow) (1.6.3)\n",
            "Requirement already satisfied: flatbuffers>=24.3.25 in /usr/local/lib/python3.10/dist-packages (from tensorflow) (24.3.25)\n",
            "Requirement already satisfied: gast!=0.5.0,!=0.5.1,!=0.5.2,>=0.2.1 in /usr/local/lib/python3.10/dist-packages (from tensorflow) (0.6.0)\n",
            "Requirement already satisfied: google-pasta>=0.1.1 in /usr/local/lib/python3.10/dist-packages (from tensorflow) (0.2.0)\n",
            "Requirement already satisfied: libclang>=13.0.0 in /usr/local/lib/python3.10/dist-packages (from tensorflow) (18.1.1)\n",
            "Requirement already satisfied: opt-einsum>=2.3.2 in /usr/local/lib/python3.10/dist-packages (from tensorflow) (3.3.0)\n",
            "Requirement already satisfied: protobuf!=4.21.0,!=4.21.1,!=4.21.2,!=4.21.3,!=4.21.4,!=4.21.5,<5.0.0dev,>=3.20.3 in /usr/local/lib/python3.10/dist-packages (from tensorflow) (3.20.3)\n",
            "Requirement already satisfied: requests<3,>=2.21.0 in /usr/local/lib/python3.10/dist-packages (from tensorflow) (2.32.3)\n",
            "Requirement already satisfied: setuptools in /usr/local/lib/python3.10/dist-packages (from tensorflow) (71.0.4)\n",
            "Requirement already satisfied: six>=1.12.0 in /usr/local/lib/python3.10/dist-packages (from tensorflow) (1.16.0)\n",
            "Requirement already satisfied: termcolor>=1.1.0 in /usr/local/lib/python3.10/dist-packages (from tensorflow) (2.4.0)\n",
            "Requirement already satisfied: typing-extensions>=3.6.6 in /usr/local/lib/python3.10/dist-packages (from tensorflow) (4.12.2)\n",
            "Requirement already satisfied: wrapt>=1.11.0 in /usr/local/lib/python3.10/dist-packages (from tensorflow) (1.16.0)\n",
            "Requirement already satisfied: grpcio<2.0,>=1.24.3 in /usr/local/lib/python3.10/dist-packages (from tensorflow) (1.64.1)\n",
            "Requirement already satisfied: tensorboard<2.18,>=2.17 in /usr/local/lib/python3.10/dist-packages (from tensorflow) (2.17.0)\n",
            "Requirement already satisfied: tensorflow-io-gcs-filesystem>=0.23.1 in /usr/local/lib/python3.10/dist-packages (from tensorflow) (0.37.1)\n",
            "Requirement already satisfied: wheel<1.0,>=0.23.0 in /usr/local/lib/python3.10/dist-packages (from astunparse>=1.6.0->tensorflow) (0.44.0)\n",
            "Requirement already satisfied: charset-normalizer<4,>=2 in /usr/local/lib/python3.10/dist-packages (from requests<3,>=2.21.0->tensorflow) (3.3.2)\n",
            "Requirement already satisfied: idna<4,>=2.5 in /usr/local/lib/python3.10/dist-packages (from requests<3,>=2.21.0->tensorflow) (3.8)\n",
            "Requirement already satisfied: urllib3<3,>=1.21.1 in /usr/local/lib/python3.10/dist-packages (from requests<3,>=2.21.0->tensorflow) (2.0.7)\n",
            "Requirement already satisfied: certifi>=2017.4.17 in /usr/local/lib/python3.10/dist-packages (from requests<3,>=2.21.0->tensorflow) (2024.7.4)\n",
            "Requirement already satisfied: markdown>=2.6.8 in /usr/local/lib/python3.10/dist-packages (from tensorboard<2.18,>=2.17->tensorflow) (3.7)\n",
            "Requirement already satisfied: tensorboard-data-server<0.8.0,>=0.7.0 in /usr/local/lib/python3.10/dist-packages (from tensorboard<2.18,>=2.17->tensorflow) (0.7.2)\n",
            "Requirement already satisfied: werkzeug>=1.0.1 in /usr/local/lib/python3.10/dist-packages (from tensorboard<2.18,>=2.17->tensorflow) (3.0.4)\n",
            "Requirement already satisfied: markdown-it-py>=2.2.0 in /usr/local/lib/python3.10/dist-packages (from rich->keras) (3.0.0)\n",
            "Requirement already satisfied: pygments<3.0.0,>=2.13.0 in /usr/local/lib/python3.10/dist-packages (from rich->keras) (2.16.1)\n",
            "Requirement already satisfied: mdurl~=0.1 in /usr/local/lib/python3.10/dist-packages (from markdown-it-py>=2.2.0->rich->keras) (0.1.2)\n",
            "Requirement already satisfied: MarkupSafe>=2.1.1 in /usr/local/lib/python3.10/dist-packages (from werkzeug>=1.0.1->tensorboard<2.18,>=2.17->tensorflow) (2.1.5)\n",
            "Downloading keras-3.5.0-py3-none-any.whl (1.1 MB)\n",
            "\u001b[2K   \u001b[90m━━━━━━━━━━━━━━━━━━━━━━━━━━━━━━━━━━━━━━━━\u001b[0m \u001b[32m1.1/1.1 MB\u001b[0m \u001b[31m42.2 MB/s\u001b[0m eta \u001b[36m0:00:00\u001b[0m\n",
            "\u001b[?25hInstalling collected packages: keras\n",
            "  Attempting uninstall: keras\n",
            "    Found existing installation: keras 3.4.1\n",
            "    Uninstalling keras-3.4.1:\n",
            "      Successfully uninstalled keras-3.4.1\n",
            "Successfully installed keras-3.5.0\n"
          ]
        }
      ],
      "source": [
        "!pip install --upgrade keras tensorflow\n",
        "import pandas, numpy, string, textblob\n",
        "import pickle\n",
        "from sklearn import model_selection, preprocessing, linear_model, naive_bayes, metrics, svm, decomposition, ensemble\n",
        "from sklearn.feature_extraction.text import TfidfVectorizer, CountVectorizer\n",
        "import xgboost\n",
        "from keras import layers, models, optimizers\n",
        "import tensorflow as tf\n",
        "from tensorflow.keras.preprocessing.text import Tokenizer, text_to_word_sequence\n",
        "from tensorflow.keras.preprocessing.sequence import pad_sequences\n",
        "import matplotlib.pyplot as plt"
      ]
    },
    {
      "cell_type": "markdown",
      "source": [
        "### Dataset\n",
        "The chosen dataset is the ‘AG News’ dataset consisting of 1,20,000 news articles for training categorized in four categories- World, Sports, Business, Sci/Tech. It also includes 7600 testing samples in csv format. I have used pandas library to load the dataset."
      ],
      "metadata": {
        "collapsed": false,
        "id": "bPIUQ2rOwAAQ"
      }
    },
    {
      "cell_type": "code",
      "execution_count": 8,
      "outputs": [],
      "source": [
        "#Load training data\n",
        "df_train = pandas.read_csv('train.csv')\n",
        "# df_train = df_train.truncate(after=10000)\n",
        "#Load testing data\n",
        "df_test = pandas.read_csv('test.csv')"
      ],
      "metadata": {
        "pycharm": {
          "name": "#%%\n",
          "is_executing": false
        },
        "id": "Yhy_jD2owAAQ"
      }
    },
    {
      "cell_type": "code",
      "execution_count": 9,
      "outputs": [
        {
          "output_type": "stream",
          "name": "stdout",
          "text": [
            "<class 'pandas.core.frame.DataFrame'>\n",
            "RangeIndex: 120000 entries, 0 to 119999\n",
            "Data columns (total 3 columns):\n",
            " #   Column       Non-Null Count   Dtype \n",
            "---  ------       --------------   ----- \n",
            " 0   Class Index  120000 non-null  int64 \n",
            " 1   Title        120000 non-null  object\n",
            " 2   Description  120000 non-null  object\n",
            "dtypes: int64(1), object(2)\n",
            "memory usage: 2.7+ MB\n"
          ]
        },
        {
          "output_type": "execute_result",
          "data": {
            "text/plain": [
              "   Class Index  Title  Description\n",
              "0            1  30000        30000\n",
              "1            2  30000        30000\n",
              "2            3  30000        30000\n",
              "3            4  30000        30000"
            ],
            "text/html": [
              "\n",
              "  <div id=\"df-5391a530-55d3-4b16-8e45-519764929e8a\" class=\"colab-df-container\">\n",
              "    <div>\n",
              "<style scoped>\n",
              "    .dataframe tbody tr th:only-of-type {\n",
              "        vertical-align: middle;\n",
              "    }\n",
              "\n",
              "    .dataframe tbody tr th {\n",
              "        vertical-align: top;\n",
              "    }\n",
              "\n",
              "    .dataframe thead th {\n",
              "        text-align: right;\n",
              "    }\n",
              "</style>\n",
              "<table border=\"1\" class=\"dataframe\">\n",
              "  <thead>\n",
              "    <tr style=\"text-align: right;\">\n",
              "      <th></th>\n",
              "      <th>Class Index</th>\n",
              "      <th>Title</th>\n",
              "      <th>Description</th>\n",
              "    </tr>\n",
              "  </thead>\n",
              "  <tbody>\n",
              "    <tr>\n",
              "      <th>0</th>\n",
              "      <td>1</td>\n",
              "      <td>30000</td>\n",
              "      <td>30000</td>\n",
              "    </tr>\n",
              "    <tr>\n",
              "      <th>1</th>\n",
              "      <td>2</td>\n",
              "      <td>30000</td>\n",
              "      <td>30000</td>\n",
              "    </tr>\n",
              "    <tr>\n",
              "      <th>2</th>\n",
              "      <td>3</td>\n",
              "      <td>30000</td>\n",
              "      <td>30000</td>\n",
              "    </tr>\n",
              "    <tr>\n",
              "      <th>3</th>\n",
              "      <td>4</td>\n",
              "      <td>30000</td>\n",
              "      <td>30000</td>\n",
              "    </tr>\n",
              "  </tbody>\n",
              "</table>\n",
              "</div>\n",
              "    <div class=\"colab-df-buttons\">\n",
              "\n",
              "  <div class=\"colab-df-container\">\n",
              "    <button class=\"colab-df-convert\" onclick=\"convertToInteractive('df-5391a530-55d3-4b16-8e45-519764929e8a')\"\n",
              "            title=\"Convert this dataframe to an interactive table.\"\n",
              "            style=\"display:none;\">\n",
              "\n",
              "  <svg xmlns=\"http://www.w3.org/2000/svg\" height=\"24px\" viewBox=\"0 -960 960 960\">\n",
              "    <path d=\"M120-120v-720h720v720H120Zm60-500h600v-160H180v160Zm220 220h160v-160H400v160Zm0 220h160v-160H400v160ZM180-400h160v-160H180v160Zm440 0h160v-160H620v160ZM180-180h160v-160H180v160Zm440 0h160v-160H620v160Z\"/>\n",
              "  </svg>\n",
              "    </button>\n",
              "\n",
              "  <style>\n",
              "    .colab-df-container {\n",
              "      display:flex;\n",
              "      gap: 12px;\n",
              "    }\n",
              "\n",
              "    .colab-df-convert {\n",
              "      background-color: #E8F0FE;\n",
              "      border: none;\n",
              "      border-radius: 50%;\n",
              "      cursor: pointer;\n",
              "      display: none;\n",
              "      fill: #1967D2;\n",
              "      height: 32px;\n",
              "      padding: 0 0 0 0;\n",
              "      width: 32px;\n",
              "    }\n",
              "\n",
              "    .colab-df-convert:hover {\n",
              "      background-color: #E2EBFA;\n",
              "      box-shadow: 0px 1px 2px rgba(60, 64, 67, 0.3), 0px 1px 3px 1px rgba(60, 64, 67, 0.15);\n",
              "      fill: #174EA6;\n",
              "    }\n",
              "\n",
              "    .colab-df-buttons div {\n",
              "      margin-bottom: 4px;\n",
              "    }\n",
              "\n",
              "    [theme=dark] .colab-df-convert {\n",
              "      background-color: #3B4455;\n",
              "      fill: #D2E3FC;\n",
              "    }\n",
              "\n",
              "    [theme=dark] .colab-df-convert:hover {\n",
              "      background-color: #434B5C;\n",
              "      box-shadow: 0px 1px 3px 1px rgba(0, 0, 0, 0.15);\n",
              "      filter: drop-shadow(0px 1px 2px rgba(0, 0, 0, 0.3));\n",
              "      fill: #FFFFFF;\n",
              "    }\n",
              "  </style>\n",
              "\n",
              "    <script>\n",
              "      const buttonEl =\n",
              "        document.querySelector('#df-5391a530-55d3-4b16-8e45-519764929e8a button.colab-df-convert');\n",
              "      buttonEl.style.display =\n",
              "        google.colab.kernel.accessAllowed ? 'block' : 'none';\n",
              "\n",
              "      async function convertToInteractive(key) {\n",
              "        const element = document.querySelector('#df-5391a530-55d3-4b16-8e45-519764929e8a');\n",
              "        const dataTable =\n",
              "          await google.colab.kernel.invokeFunction('convertToInteractive',\n",
              "                                                    [key], {});\n",
              "        if (!dataTable) return;\n",
              "\n",
              "        const docLinkHtml = 'Like what you see? Visit the ' +\n",
              "          '<a target=\"_blank\" href=https://colab.research.google.com/notebooks/data_table.ipynb>data table notebook</a>'\n",
              "          + ' to learn more about interactive tables.';\n",
              "        element.innerHTML = '';\n",
              "        dataTable['output_type'] = 'display_data';\n",
              "        await google.colab.output.renderOutput(dataTable, element);\n",
              "        const docLink = document.createElement('div');\n",
              "        docLink.innerHTML = docLinkHtml;\n",
              "        element.appendChild(docLink);\n",
              "      }\n",
              "    </script>\n",
              "  </div>\n",
              "\n",
              "\n",
              "<div id=\"df-edea3830-bef1-4f01-8da0-723e4e030a8d\">\n",
              "  <button class=\"colab-df-quickchart\" onclick=\"quickchart('df-edea3830-bef1-4f01-8da0-723e4e030a8d')\"\n",
              "            title=\"Suggest charts\"\n",
              "            style=\"display:none;\">\n",
              "\n",
              "<svg xmlns=\"http://www.w3.org/2000/svg\" height=\"24px\"viewBox=\"0 0 24 24\"\n",
              "     width=\"24px\">\n",
              "    <g>\n",
              "        <path d=\"M19 3H5c-1.1 0-2 .9-2 2v14c0 1.1.9 2 2 2h14c1.1 0 2-.9 2-2V5c0-1.1-.9-2-2-2zM9 17H7v-7h2v7zm4 0h-2V7h2v10zm4 0h-2v-4h2v4z\"/>\n",
              "    </g>\n",
              "</svg>\n",
              "  </button>\n",
              "\n",
              "<style>\n",
              "  .colab-df-quickchart {\n",
              "      --bg-color: #E8F0FE;\n",
              "      --fill-color: #1967D2;\n",
              "      --hover-bg-color: #E2EBFA;\n",
              "      --hover-fill-color: #174EA6;\n",
              "      --disabled-fill-color: #AAA;\n",
              "      --disabled-bg-color: #DDD;\n",
              "  }\n",
              "\n",
              "  [theme=dark] .colab-df-quickchart {\n",
              "      --bg-color: #3B4455;\n",
              "      --fill-color: #D2E3FC;\n",
              "      --hover-bg-color: #434B5C;\n",
              "      --hover-fill-color: #FFFFFF;\n",
              "      --disabled-bg-color: #3B4455;\n",
              "      --disabled-fill-color: #666;\n",
              "  }\n",
              "\n",
              "  .colab-df-quickchart {\n",
              "    background-color: var(--bg-color);\n",
              "    border: none;\n",
              "    border-radius: 50%;\n",
              "    cursor: pointer;\n",
              "    display: none;\n",
              "    fill: var(--fill-color);\n",
              "    height: 32px;\n",
              "    padding: 0;\n",
              "    width: 32px;\n",
              "  }\n",
              "\n",
              "  .colab-df-quickchart:hover {\n",
              "    background-color: var(--hover-bg-color);\n",
              "    box-shadow: 0 1px 2px rgba(60, 64, 67, 0.3), 0 1px 3px 1px rgba(60, 64, 67, 0.15);\n",
              "    fill: var(--button-hover-fill-color);\n",
              "  }\n",
              "\n",
              "  .colab-df-quickchart-complete:disabled,\n",
              "  .colab-df-quickchart-complete:disabled:hover {\n",
              "    background-color: var(--disabled-bg-color);\n",
              "    fill: var(--disabled-fill-color);\n",
              "    box-shadow: none;\n",
              "  }\n",
              "\n",
              "  .colab-df-spinner {\n",
              "    border: 2px solid var(--fill-color);\n",
              "    border-color: transparent;\n",
              "    border-bottom-color: var(--fill-color);\n",
              "    animation:\n",
              "      spin 1s steps(1) infinite;\n",
              "  }\n",
              "\n",
              "  @keyframes spin {\n",
              "    0% {\n",
              "      border-color: transparent;\n",
              "      border-bottom-color: var(--fill-color);\n",
              "      border-left-color: var(--fill-color);\n",
              "    }\n",
              "    20% {\n",
              "      border-color: transparent;\n",
              "      border-left-color: var(--fill-color);\n",
              "      border-top-color: var(--fill-color);\n",
              "    }\n",
              "    30% {\n",
              "      border-color: transparent;\n",
              "      border-left-color: var(--fill-color);\n",
              "      border-top-color: var(--fill-color);\n",
              "      border-right-color: var(--fill-color);\n",
              "    }\n",
              "    40% {\n",
              "      border-color: transparent;\n",
              "      border-right-color: var(--fill-color);\n",
              "      border-top-color: var(--fill-color);\n",
              "    }\n",
              "    60% {\n",
              "      border-color: transparent;\n",
              "      border-right-color: var(--fill-color);\n",
              "    }\n",
              "    80% {\n",
              "      border-color: transparent;\n",
              "      border-right-color: var(--fill-color);\n",
              "      border-bottom-color: var(--fill-color);\n",
              "    }\n",
              "    90% {\n",
              "      border-color: transparent;\n",
              "      border-bottom-color: var(--fill-color);\n",
              "    }\n",
              "  }\n",
              "</style>\n",
              "\n",
              "  <script>\n",
              "    async function quickchart(key) {\n",
              "      const quickchartButtonEl =\n",
              "        document.querySelector('#' + key + ' button');\n",
              "      quickchartButtonEl.disabled = true;  // To prevent multiple clicks.\n",
              "      quickchartButtonEl.classList.add('colab-df-spinner');\n",
              "      try {\n",
              "        const charts = await google.colab.kernel.invokeFunction(\n",
              "            'suggestCharts', [key], {});\n",
              "      } catch (error) {\n",
              "        console.error('Error during call to suggestCharts:', error);\n",
              "      }\n",
              "      quickchartButtonEl.classList.remove('colab-df-spinner');\n",
              "      quickchartButtonEl.classList.add('colab-df-quickchart-complete');\n",
              "    }\n",
              "    (() => {\n",
              "      let quickchartButtonEl =\n",
              "        document.querySelector('#df-edea3830-bef1-4f01-8da0-723e4e030a8d button');\n",
              "      quickchartButtonEl.style.display =\n",
              "        google.colab.kernel.accessAllowed ? 'block' : 'none';\n",
              "    })();\n",
              "  </script>\n",
              "</div>\n",
              "\n",
              "    </div>\n",
              "  </div>\n"
            ],
            "application/vnd.google.colaboratory.intrinsic+json": {
              "type": "dataframe",
              "variable_name": "df_count",
              "summary": "{\n  \"name\": \"df_count\",\n  \"rows\": 4,\n  \"fields\": [\n    {\n      \"column\": \"Class Index\",\n      \"properties\": {\n        \"dtype\": \"number\",\n        \"std\": 1,\n        \"min\": 1,\n        \"max\": 4,\n        \"num_unique_values\": 4,\n        \"samples\": [\n          2,\n          4,\n          1\n        ],\n        \"semantic_type\": \"\",\n        \"description\": \"\"\n      }\n    },\n    {\n      \"column\": \"Title\",\n      \"properties\": {\n        \"dtype\": \"number\",\n        \"std\": 0,\n        \"min\": 30000,\n        \"max\": 30000,\n        \"num_unique_values\": 1,\n        \"samples\": [\n          30000\n        ],\n        \"semantic_type\": \"\",\n        \"description\": \"\"\n      }\n    },\n    {\n      \"column\": \"Description\",\n      \"properties\": {\n        \"dtype\": \"number\",\n        \"std\": 0,\n        \"min\": 30000,\n        \"max\": 30000,\n        \"num_unique_values\": 1,\n        \"samples\": [\n          30000\n        ],\n        \"semantic_type\": \"\",\n        \"description\": \"\"\n      }\n    }\n  ]\n}"
            }
          },
          "metadata": {},
          "execution_count": 9
        }
      ],
      "source": [
        "df_train.head()\n",
        "df_train.info()\n",
        "df_count = df_train.groupby(['Class Index'], as_index = False).agg({'Title': 'count', 'Description': 'count'})\n",
        "df_count.head()"
      ],
      "metadata": {
        "pycharm": {
          "name": "#%%\n",
          "is_executing": false
        },
        "colab": {
          "base_uri": "https://localhost:8080/",
          "height": 348
        },
        "id": "tcv6_G5nwAAQ",
        "outputId": "d09d3794-233e-46c1-85b8-d54515e7c9f0"
      }
    },
    {
      "cell_type": "code",
      "execution_count": 10,
      "outputs": [
        {
          "output_type": "stream",
          "name": "stdout",
          "text": [
            "Collecting unidecode\n",
            "  Downloading Unidecode-1.3.8-py3-none-any.whl.metadata (13 kB)\n",
            "Downloading Unidecode-1.3.8-py3-none-any.whl (235 kB)\n",
            "\u001b[?25l   \u001b[90m━━━━━━━━━━━━━━━━━━━━━━━━━━━━━━━━━━━━━━━━\u001b[0m \u001b[32m0.0/235.5 kB\u001b[0m \u001b[31m?\u001b[0m eta \u001b[36m-:--:--\u001b[0m\r\u001b[2K   \u001b[90m━━━━━━━━━━━━━━━━━━━━━━━━━━━━━━━━━━━━━━━━\u001b[0m \u001b[32m235.5/235.5 kB\u001b[0m \u001b[31m17.2 MB/s\u001b[0m eta \u001b[36m0:00:00\u001b[0m\n",
            "\u001b[?25hInstalling collected packages: unidecode\n",
            "Successfully installed unidecode-1.3.8\n"
          ]
        },
        {
          "output_type": "stream",
          "name": "stderr",
          "text": [
            "[nltk_data] Downloading package stopwords to /root/nltk_data...\n",
            "[nltk_data]   Unzipping corpora/stopwords.zip.\n",
            "[nltk_data] Downloading package punkt to /root/nltk_data...\n",
            "[nltk_data]   Unzipping tokenizers/punkt.zip.\n",
            "[nltk_data] Downloading package wordnet to /root/nltk_data...\n"
          ]
        }
      ],
      "source": [
        "!pip install unidecode\n",
        "import re, unidecode\n",
        "from bs4 import BeautifulSoup\n",
        "from nltk.stem.porter import PorterStemmer\n",
        "from nltk.stem import WordNetLemmatizer\n",
        "from nltk.corpus import stopwords\n",
        "from nltk.tokenize import word_tokenize\n",
        "\n",
        "# Needed only once\n",
        "import nltk\n",
        "nltk.download('stopwords')\n",
        "nltk.download('punkt')\n",
        "nltk.download('wordnet')\n",
        "\n",
        "def remove_html_tags(text):\n",
        "    soup = BeautifulSoup(text, \"html.parser\")\n",
        "    stripped_text = soup.get_text(separator=\" \")\n",
        "    return stripped_text\n",
        "def remove_accented_chars(text):\n",
        "    text = unidecode.unidecode(text)\n",
        "    return text\n",
        "def remove_numbers(text):\n",
        "    result = re.sub(r'\\d+', '', text)\n",
        "    return result\n",
        "def remove_slash_with_space(text):\n",
        "    return text.replace('\\\\', \" \")\n",
        "def remove_punctuation(text):\n",
        "    translator = str.maketrans('', '', string.punctuation)\n",
        "    return text.translate(translator)\n",
        "def text_lowercase(text):\n",
        "    return text.lower()\n",
        "def remove_whitespace(text):\n",
        "    return  \" \".join(text.split())\n",
        "def remove_stopwords(text):\n",
        "    stop_words = set(stopwords.words(\"english\"))\n",
        "    word_tokens = word_tokenize(text)\n",
        "    filtered_text = [word for word in word_tokens if word not in stop_words]\n",
        "    return ' '.join(filtered_text)\n",
        "def stem_words(text):\n",
        "    stemmer = PorterStemmer()\n",
        "    word_tokens = word_tokenize(text)\n",
        "    stems = [stemmer.stem(word) for word in word_tokens]\n",
        "    return ' '.join(stems)\n",
        "def lemmatize_words(text):\n",
        "    lemmatizer = WordNetLemmatizer()\n",
        "    word_tokens = word_tokenize(text)\n",
        "    # provide context i.e. part-of-speech\n",
        "    lemmas = [lemmatizer.lemmatize(word, pos ='v') for word in word_tokens]\n",
        "    return ' '.join(lemmas)\n"
      ],
      "metadata": {
        "pycharm": {
          "name": "#%%\n",
          "is_executing": false
        },
        "colab": {
          "base_uri": "https://localhost:8080/"
        },
        "id": "dukPVIJ8wAAQ",
        "outputId": "f99be897-ee8c-4158-e68d-bb6fb4139f5e"
      }
    },
    {
      "cell_type": "code",
      "execution_count": 11,
      "outputs": [
        {
          "output_type": "stream",
          "name": "stderr",
          "text": [
            "<ipython-input-10-4ae6161fcfd8>:16: MarkupResemblesLocatorWarning: The input looks more like a filename than markup. You may want to open this file and pass the filehandle into Beautiful Soup.\n",
            "  soup = BeautifulSoup(text, \"html.parser\")\n"
          ]
        }
      ],
      "source": [
        "# Perform preprocessing\n",
        "def perform_preprocessing(text):\n",
        "    text = remove_html_tags(text)\n",
        "    text = remove_accented_chars(text)\n",
        "    text = remove_numbers(text)\n",
        "    text = remove_stopwords(text)\n",
        "    text = text_lowercase(text)\n",
        "    text = remove_slash_with_space(text)\n",
        "    text = remove_punctuation(text)\n",
        "    # text = stem_words(text)\n",
        "    text = lemmatize_words(text)\n",
        "    text = remove_whitespace(text)\n",
        "    return text\n",
        "\n",
        "df_train['Title'] = df_train['Title'].apply(perform_preprocessing)\n",
        "df_train['Description'] = df_train['Description'].apply(perform_preprocessing)\n",
        "df_test['Title'] = df_test['Title'].apply(perform_preprocessing)\n",
        "df_test['Description'] = df_test['Description'].apply(perform_preprocessing)\n"
      ],
      "metadata": {
        "pycharm": {
          "name": "#%%\n",
          "is_executing": false
        },
        "colab": {
          "base_uri": "https://localhost:8080/"
        },
        "id": "m6jxA69QwAAR",
        "outputId": "28e330f2-6bc4-4cea-ee99-c54a4f3ee2d9"
      }
    },
    {
      "cell_type": "markdown",
      "source": [
        "### Train test split"
      ],
      "metadata": {
        "collapsed": false,
        "id": "rysdZJOBwAAR"
      }
    },
    {
      "cell_type": "code",
      "execution_count": 12,
      "outputs": [],
      "source": [
        "X_train = df_train['Description']\n",
        "X_test = df_test['Description']\n",
        "y_train = df_train['Class Index']\n",
        "y_test = df_test['Class Index']"
      ],
      "metadata": {
        "pycharm": {
          "name": "#%%\n",
          "is_executing": false
        },
        "id": "BPJ8XtMxwAAR"
      }
    },
    {
      "cell_type": "code",
      "execution_count": 13,
      "outputs": [],
      "source": [
        "count_vect = CountVectorizer(analyzer='word', token_pattern=r'\\w{1,}')\n",
        "count_vect.fit(X_train)\n",
        "X_train_count =  count_vect.transform(X_train)\n",
        "X_test_count =  count_vect.transform(X_test)"
      ],
      "metadata": {
        "pycharm": {
          "name": "#%%\n",
          "is_executing": false
        },
        "id": "F7QJdeS_wAAR"
      }
    },
    {
      "cell_type": "code",
      "execution_count": 14,
      "outputs": [],
      "source": [
        "# word level tf-idf\n",
        "tfidf_vect = TfidfVectorizer(analyzer='word', token_pattern=r'\\w{1,}', max_features=5000)\n",
        "tfidf_vect.fit(X_train)\n",
        "X_train_tfidf =  tfidf_vect.transform(X_train)\n",
        "X_test_tfidf =  tfidf_vect.transform(X_test)"
      ],
      "metadata": {
        "pycharm": {
          "name": "#%%\n",
          "is_executing": false
        },
        "id": "G5LKXu8TwAAR"
      }
    },
    {
      "cell_type": "code",
      "execution_count": 15,
      "outputs": [],
      "source": [
        "# ngram level tf-idf\n",
        "tfidf_vect_ngram = TfidfVectorizer(analyzer='word', token_pattern=r'\\w{1,}', ngram_range=(1,2), max_features=5000)\n",
        "tfidf_vect_ngram.fit(X_train)\n",
        "X_train_tfidf_ngram =  tfidf_vect_ngram.transform(X_train)\n",
        "X_test_tfidf_ngram =  tfidf_vect_ngram.transform(X_test)"
      ],
      "metadata": {
        "pycharm": {
          "name": "#%%\n",
          "is_executing": false
        },
        "id": "Y9luTjIuwAAR"
      }
    },
    {
      "cell_type": "code",
      "execution_count": 16,
      "outputs": [
        {
          "output_type": "stream",
          "name": "stderr",
          "text": [
            "/usr/local/lib/python3.10/dist-packages/sklearn/feature_extraction/text.py:555: UserWarning: The parameter 'token_pattern' will not be used since 'analyzer' != 'word'\n",
            "  warnings.warn(\n"
          ]
        }
      ],
      "source": [
        "# characters level tf-idf\n",
        "tfidf_vect_ngram_chars = TfidfVectorizer(analyzer='char', token_pattern=r'\\w{1,}', ngram_range=(2,3), max_features=5000)\n",
        "tfidf_vect_ngram_chars.fit(X_train)\n",
        "X_train_tfidf_ngram_chars =  tfidf_vect_ngram_chars.transform(X_train)\n",
        "X_test_tfidf_ngram_chars =  tfidf_vect_ngram_chars.transform(X_test)"
      ],
      "metadata": {
        "pycharm": {
          "name": "#%%\n",
          "is_executing": false
        },
        "colab": {
          "base_uri": "https://localhost:8080/"
        },
        "id": "aIK73fvLwAAR",
        "outputId": "e35f15eb-3e37-462e-f512-e8a40bc4fea0"
      }
    },
    {
      "cell_type": "code",
      "execution_count": 17,
      "outputs": [],
      "source": [
        "# label encode the target variable\n",
        "encoder = preprocessing.LabelEncoder()\n",
        "y_train = encoder.fit_transform(y_train)\n",
        "y_test = encoder.fit_transform(y_test)\n",
        "\n",
        "encoder = preprocessing.LabelBinarizer()\n",
        "encoder.fit(y_train)\n",
        "y_train_bi = encoder.transform(y_train)\n",
        "y_test_bi = encoder.transform(y_test)"
      ],
      "metadata": {
        "pycharm": {
          "name": "#%%\n",
          "is_executing": false
        },
        "id": "JwLwVkGqwAAR"
      }
    },
    {
      "cell_type": "markdown",
      "source": [
        "###\tMODEL SELECTION AND TRAINING\n",
        "#### Classical models (Used as a Baseline Model)"
      ],
      "metadata": {
        "collapsed": false,
        "pycharm": {
          "name": "#%% md\n"
        },
        "id": "CCtOcUDawAAR"
      }
    },
    {
      "cell_type": "code",
      "execution_count": 18,
      "outputs": [],
      "source": [
        "def train_model(classifier, X_train, y_train, X_test, y_test, is_neural_net=False):\n",
        "    # fit the training dataset on the classifier\n",
        "    classifier.fit(X_train, y_train)\n",
        "    # predict the labels on validation dataset\n",
        "    predictions = classifier.predict(X_test)\n",
        "    return metrics.accuracy_score(predictions, y_test)"
      ],
      "metadata": {
        "pycharm": {
          "name": "#%%\n",
          "is_executing": false
        },
        "id": "JUIx9UMawAAR"
      }
    },
    {
      "cell_type": "markdown",
      "source": [
        "Naïve Bayes Classifier – This classification technique is based on Bayes’ Theorem and assumes independence among the predictors\n",
        "\n",
        "![title](images/nb.png)"
      ],
      "metadata": {
        "collapsed": false,
        "pycharm": {
          "name": "#%% md\n"
        },
        "id": "XgQCIlEMwAAR"
      }
    },
    {
      "cell_type": "code",
      "execution_count": null,
      "outputs": [
        {
          "output_type": "stream",
          "name": "stdout",
          "text": [
            "NB, Count Vectors:  0.8956578947368421\n",
            "NB, WordLevel TF-IDF:  0.8836842105263157\n",
            "NB, N-Gram Vectors:  0.8797368421052632\n",
            "NB, CharLevel Vectors:  0.8444736842105263\n"
          ]
        },
        {
          "output_type": "execute_result",
          "data": {
            "text/plain": [
              "<BarContainer object of 4 artists>"
            ]
          },
          "metadata": {},
          "execution_count": 15
        },
        {
          "output_type": "display_data",
          "data": {
            "text/plain": [
              "<Figure size 640x480 with 1 Axes>"
            ],
            "image/png": "[encoded data removed]"
          },
          "metadata": {}
        }
      ],
      "source": [
        "# Naive Bayes on Count Vectors\n",
        "accuracy1 = train_model(naive_bayes.MultinomialNB(), X_train_count, y_train, X_test_count, y_test)\n",
        "print(\"NB, Count Vectors: \", accuracy1)\n",
        "\n",
        "# Naive Bayes on Word Level TF IDF Vectors\n",
        "accuracy2 = train_model(naive_bayes.MultinomialNB(), X_train_tfidf, y_train, X_test_tfidf, y_test)\n",
        "print(\"NB, WordLevel TF-IDF: \", accuracy2)\n",
        "\n",
        "# Naive Bayes on Ngram Level TF IDF Vectors\n",
        "accuracy3 = train_model(naive_bayes.MultinomialNB(), X_train_tfidf_ngram, y_train, X_test_tfidf_ngram, y_test)\n",
        "print(\"NB, N-Gram Vectors: \", accuracy3)\n",
        "\n",
        "# Naive Bayes on Character Level TF IDF Vectors\n",
        "accuracy4 = train_model(naive_bayes.MultinomialNB(), X_train_tfidf_ngram_chars, y_train, X_test_tfidf_ngram_chars, y_test)\n",
        "print(\"NB, CharLevel Vectors: \", accuracy4)\n",
        "\n",
        "df = {'ModelType': ['NB Count', 'NB TF-IDF','NB Ngram', 'NB TF-IDF CharLevel' ], 'Accuracy': [accuracy1,accuracy2, accuracy3,accuracy4]}\n",
        "df = pandas.DataFrame(df) #\n",
        "plt.bar(df['ModelType'], df['Accuracy'])"
      ],
      "metadata": {
        "pycharm": {
          "name": "#%%\n",
          "is_executing": false
        },
        "colab": {
          "base_uri": "https://localhost:8080/",
          "height": 517
        },
        "id": "zBIc818SwAAS",
        "outputId": "1c08e4e1-7448-4616-c916-5942a4bdbc23"
      }
    },
    {
      "cell_type": "markdown",
      "source": [
        "Logistic Regression – This model uses a logistic/sigmoid function to calculate the probabilities of different values of the categorical dependent variable in presence of one or more predictors. Logit function is an estimation of log of odds in the favor of event and outputs a s-shaped curve with probability estimates.\n"
      ],
      "metadata": {
        "collapsed": false,
        "pycharm": {
          "name": "#%% md\n",
          "is_executing": false
        },
        "id": "pZUs6x_IwAAS"
      }
    },
    {
      "cell_type": "code",
      "execution_count": null,
      "outputs": [
        {
          "output_type": "stream",
          "name": "stderr",
          "text": [
            "/usr/local/lib/python3.10/dist-packages/sklearn/linear_model/_logistic.py:460: ConvergenceWarning: lbfgs failed to converge (status=1):\n",
            "STOP: TOTAL NO. of ITERATIONS REACHED LIMIT.\n",
            "\n",
            "Increase the number of iterations (max_iter) or scale the data as shown in:\n",
            "    https://scikit-learn.org/stable/modules/preprocessing.html\n",
            "Please also refer to the documentation for alternative solver options:\n",
            "    https://scikit-learn.org/stable/modules/linear_model.html#logistic-regression\n",
            "  n_iter_i = _check_optimize_result(\n"
          ]
        },
        {
          "output_type": "stream",
          "name": "stdout",
          "text": [
            "LR, Count Vectors:  0.8990789473684211\n"
          ]
        },
        {
          "output_type": "stream",
          "name": "stderr",
          "text": [
            "/usr/local/lib/python3.10/dist-packages/sklearn/linear_model/_logistic.py:460: ConvergenceWarning: lbfgs failed to converge (status=1):\n",
            "STOP: TOTAL NO. of ITERATIONS REACHED LIMIT.\n",
            "\n",
            "Increase the number of iterations (max_iter) or scale the data as shown in:\n",
            "    https://scikit-learn.org/stable/modules/preprocessing.html\n",
            "Please also refer to the documentation for alternative solver options:\n",
            "    https://scikit-learn.org/stable/modules/linear_model.html#logistic-regression\n",
            "  n_iter_i = _check_optimize_result(\n"
          ]
        },
        {
          "output_type": "stream",
          "name": "stdout",
          "text": [
            "LR, WordLevel TF-IDF:  0.8981578947368422\n"
          ]
        },
        {
          "output_type": "stream",
          "name": "stderr",
          "text": [
            "/usr/local/lib/python3.10/dist-packages/sklearn/linear_model/_logistic.py:460: ConvergenceWarning: lbfgs failed to converge (status=1):\n",
            "STOP: TOTAL NO. of ITERATIONS REACHED LIMIT.\n",
            "\n",
            "Increase the number of iterations (max_iter) or scale the data as shown in:\n",
            "    https://scikit-learn.org/stable/modules/preprocessing.html\n",
            "Please also refer to the documentation for alternative solver options:\n",
            "    https://scikit-learn.org/stable/modules/linear_model.html#logistic-regression\n",
            "  n_iter_i = _check_optimize_result(\n"
          ]
        },
        {
          "output_type": "stream",
          "name": "stdout",
          "text": [
            "LR, N-Gram Vectors:  0.8975\n",
            "LR, CharLevel Vectors:  0.8819736842105264\n"
          ]
        },
        {
          "output_type": "stream",
          "name": "stderr",
          "text": [
            "/usr/local/lib/python3.10/dist-packages/sklearn/linear_model/_logistic.py:460: ConvergenceWarning: lbfgs failed to converge (status=1):\n",
            "STOP: TOTAL NO. of ITERATIONS REACHED LIMIT.\n",
            "\n",
            "Increase the number of iterations (max_iter) or scale the data as shown in:\n",
            "    https://scikit-learn.org/stable/modules/preprocessing.html\n",
            "Please also refer to the documentation for alternative solver options:\n",
            "    https://scikit-learn.org/stable/modules/linear_model.html#logistic-regression\n",
            "  n_iter_i = _check_optimize_result(\n"
          ]
        },
        {
          "output_type": "execute_result",
          "data": {
            "text/plain": [
              "<BarContainer object of 4 artists>"
            ]
          },
          "metadata": {},
          "execution_count": 16
        },
        {
          "output_type": "display_data",
          "data": {
            "text/plain": [
              "<Figure size 640x480 with 1 Axes>"
            ],
            "image/png": "[encoded data removed]"
          },
          "metadata": {}
        }
      ],
      "source": [
        "# Logistic Regression on Count Vectors\n",
        "accuracy1 = train_model(linear_model.LogisticRegression(), X_train_count, y_train, X_test_count, y_test)\n",
        "print(\"LR, Count Vectors: \", accuracy1)\n",
        "\n",
        "# Logistic Regression on Word Level TF IDF Vectors\n",
        "accuracy2 = train_model(linear_model.LogisticRegression(), X_train_tfidf, y_train, X_test_tfidf, y_test)\n",
        "print(\"LR, WordLevel TF-IDF: \", accuracy2)\n",
        "\n",
        "# Logistic Regression on Ngram Level TF IDF Vectors\n",
        "accuracy3 = train_model(linear_model.LogisticRegression(), X_train_tfidf_ngram, y_train, X_test_tfidf_ngram, y_test)\n",
        "print(\"LR, N-Gram Vectors: \", accuracy3)\n",
        "\n",
        "# Logistic Regression on Character Level TF IDF Vectors\n",
        "accuracy4 = train_model(linear_model.LogisticRegression(), X_train_tfidf_ngram_chars, y_train, X_test_tfidf_ngram_chars, y_test)\n",
        "print(\"LR, CharLevel Vectors: \", accuracy4)\n",
        "\n",
        "df = {'ModelType': ['LR Count', 'LR TF-IDF','LR Ngram', 'LR TF-IDF CharLevel' ], 'Accuracy': [accuracy1,accuracy2, accuracy3,accuracy4]}\n",
        "df = pandas.DataFrame(df) #\n",
        "plt.bar(df['ModelType'], df['Accuracy'])"
      ],
      "metadata": {
        "pycharm": {
          "name": "#%%\n",
          "is_executing": false
        },
        "colab": {
          "base_uri": "https://localhost:8080/",
          "height": 1000
        },
        "id": "b-mjTm1HwAAS",
        "outputId": "59d0c6da-b4f8-4c1d-a3bd-7c51cfb49f8e"
      }
    },
    {
      "cell_type": "markdown",
      "source": [
        "Bagging Model (Random Forest) - Random Forest models are a type of ensemble models, particularly bagging models. The main aim of these models is to reduce the overfitting. They work towards reducing the model complexity."
      ],
      "metadata": {
        "collapsed": false,
        "pycharm": {
          "name": "#%% md\n",
          "is_executing": false
        },
        "id": "LE6PWsHlwAAS"
      }
    },
    {
      "cell_type": "code",
      "execution_count": null,
      "outputs": [
        {
          "output_type": "stream",
          "name": "stdout",
          "text": [
            "RF, Count Vectors:  0.8880263157894737\n",
            "RF, WordLevel TF-IDF:  0.8747368421052631\n"
          ]
        }
      ],
      "source": [
        "# RF on Count Vectors\n",
        "accuracy1 = train_model(ensemble.RandomForestClassifier(), X_train_count, y_train, X_test_count, y_test)\n",
        "print(\"RF, Count Vectors: \", accuracy1)\n",
        "\n",
        "# RF on Word Level TF IDF Vectors\n",
        "accuracy2 = train_model(ensemble.RandomForestClassifier(), X_train_tfidf, y_train, X_test_tfidf, y_test)\n",
        "print(\"RF, WordLevel TF-IDF: \", accuracy2)"
      ],
      "metadata": {
        "pycharm": {
          "name": "#%%\n",
          "is_executing": false
        },
        "colab": {
          "base_uri": "https://localhost:8080/"
        },
        "id": "Lpj_6mq9wAAS",
        "outputId": "285ef6f6-881d-44de-a2fb-3c34533be67f"
      }
    },
    {
      "cell_type": "markdown",
      "source": [
        "XG Boost - Boosting models are type of ensemble models and work to improve the model prediction rates. This model is meta-algorithm for reducing bias and variance in supervised learning. One of its strong points is that it converts weak learner i.e. classifiers slightly correlated to the true classification into stronger ones."
      ],
      "metadata": {
        "collapsed": false,
        "pycharm": {
          "name": "#%% md\n"
        },
        "id": "ul0GI7ynwAAS"
      }
    },
    {
      "cell_type": "code",
      "execution_count": null,
      "outputs": [
        {
          "output_type": "stream",
          "name": "stdout",
          "text": [
            "Xgb, Count Vectors:  0.88\n",
            "Xgb, WordLevel TF-IDF:  0.8819736842105264\n"
          ]
        },
        {
          "output_type": "execute_result",
          "data": {
            "text/plain": [
              "<BarContainer object of 4 artists>"
            ]
          },
          "metadata": {},
          "execution_count": 18
        },
        {
          "output_type": "display_data",
          "data": {
            "text/plain": [
              "<Figure size 640x480 with 1 Axes>"
            ],
            "image/png": "[encoded data removed]"
          },
          "metadata": {}
        }
      ],
      "source": [
        "# Extereme Gradient Boosting (XG boost) on Count Vectors\n",
        "accuracy3 = train_model(xgboost.XGBClassifier(), X_train_count.tocsc(), y_train, X_test_count.tocsc(), y_test)\n",
        "print(\"Xgb, Count Vectors: \", accuracy3)\n",
        "\n",
        "# Extereme Gradient Boosting on Word Level TF IDF Vectors\n",
        "accurac4 = train_model(xgboost.XGBClassifier(), X_train_tfidf.tocsc(), y_train, X_test_tfidf.tocsc(), y_test)\n",
        "print(\"Xgb, WordLevel TF-IDF: \", accuracy4)\n",
        "\n",
        "# # Extereme Gradient Boosting on Character Level TF IDF Vectors\n",
        "# accuracy = train_model(xgboost.XGBClassifier(), X_train_tfidf_ngram_chars.tocsc(), y_train, X_test_tfidf_ngram_chars.tocsc(), y_test)\n",
        "# print(\"Xgb, CharLevel Vectors: \", accuracy)\n",
        "df = {'ModelType': ['RF count', 'RF TF-IDF','XG Count', 'XG TF-IDF' ], 'Accuracy': [accuracy1,accuracy2, accuracy3,accuracy4]}\n",
        "df = pandas.DataFrame(df) #\n",
        "plt.bar(df['ModelType'], df['Accuracy'])"
      ],
      "metadata": {
        "pycharm": {
          "name": "#%%\n",
          "is_executing": false
        },
        "colab": {
          "base_uri": "https://localhost:8080/",
          "height": 482
        },
        "id": "wa5CXXkEwAAS",
        "outputId": "98337af1-760c-4699-b507-010d74b42a24"
      }
    },
    {
      "cell_type": "markdown",
      "source": [
        "To further improve the performance of the model and studying the recent advancement in NLP, I used the following Neural network models for the problem statement-\n",
        "### Shallow Neural Network\n"
      ],
      "metadata": {
        "collapsed": false,
        "pycharm": {
          "name": "#%% md\n",
          "is_executing": false
        },
        "id": "mUJK2-EhwAAS"
      }
    },
    {
      "cell_type": "code",
      "execution_count": null,
      "outputs": [],
      "source": [
        "plt.style.use('ggplot')\n",
        "def plot_history(history):\n",
        "    acc = history.history['accuracy']\n",
        "    val_acc = history.history['val_accuracy']\n",
        "    loss = history.history['loss']\n",
        "    val_loss = history.history['val_loss']\n",
        "    x = range(1, len(acc) + 1)\n",
        "\n",
        "    plt.figure(figsize=(12, 5))\n",
        "    plt.subplot(1, 2, 1)\n",
        "    plt.plot(x, acc, 'b', label='Training acc')\n",
        "    plt.plot(x, val_acc, 'r', label='Validation acc')\n",
        "    plt.title('Training and validation accuracy')\n",
        "    plt.legend()\n",
        "    plt.subplot(1, 2, 2)\n",
        "    plt.plot(x, loss, 'b', label='Training loss')\n",
        "    plt.plot(x, val_loss, 'r', label='Validation loss')\n",
        "    plt.title('Training and validation loss')\n",
        "    plt.legend()"
      ],
      "metadata": {
        "pycharm": {
          "name": "#%%\n",
          "is_executing": false
        },
        "id": "2DCS27nkwAAS"
      }
    },
    {
      "cell_type": "code",
      "execution_count": null,
      "outputs": [
        {
          "output_type": "stream",
          "name": "stderr",
          "text": [
            "/usr/local/lib/python3.10/dist-packages/keras/src/layers/core/dense.py:87: UserWarning: Do not pass an `input_shape`/`input_dim` argument to a layer. When using Sequential models, prefer using an `Input(shape)` object as the first layer in the model instead.\n",
            "  super().__init__(activity_regularizer=activity_regularizer, **kwargs)\n"
          ]
        },
        {
          "output_type": "stream",
          "name": "stdout",
          "text": [
            "Epoch 1/10\n",
            "\u001b[1m1080/1080\u001b[0m \u001b[32m━━━━━━━━━━━━━━━━━━━━\u001b[0m\u001b[37m\u001b[0m \u001b[1m219s\u001b[0m 200ms/step - accuracy: 0.8616 - loss: 0.4986 - val_accuracy: 0.8939 - val_loss: 0.2930\n",
            "Epoch 2/10\n",
            "\u001b[1m1080/1080\u001b[0m \u001b[32m━━━━━━━━━━━━━━━━━━━━\u001b[0m\u001b[37m\u001b[0m \u001b[1m69s\u001b[0m 23ms/step - accuracy: 0.9181 - loss: 0.2331 - val_accuracy: 0.8967 - val_loss: 0.2919\n",
            "Epoch 3/10\n",
            "\u001b[1m1080/1080\u001b[0m \u001b[32m━━━━━━━━━━━━━━━━━━━━\u001b[0m\u001b[37m\u001b[0m \u001b[1m32s\u001b[0m 14ms/step - accuracy: 0.9347 - loss: 0.1868 - val_accuracy: 0.8956 - val_loss: 0.3112\n",
            "Epoch 4/10\n",
            "\u001b[1m1080/1080\u001b[0m \u001b[32m━━━━━━━━━━━━━━━━━━━━\u001b[0m\u001b[37m\u001b[0m \u001b[1m8s\u001b[0m 8ms/step - accuracy: 0.9500 - loss: 0.1449 - val_accuracy: 0.8917 - val_loss: 0.3364\n",
            "Epoch 5/10\n",
            "\u001b[1m1080/1080\u001b[0m \u001b[32m━━━━━━━━━━━━━━━━━━━━\u001b[0m\u001b[37m\u001b[0m \u001b[1m8s\u001b[0m 8ms/step - accuracy: 0.9659 - loss: 0.1041 - val_accuracy: 0.8907 - val_loss: 0.3791\n",
            "Epoch 6/10\n",
            "\u001b[1m1080/1080\u001b[0m \u001b[32m━━━━━━━━━━━━━━━━━━━━\u001b[0m\u001b[37m\u001b[0m \u001b[1m7s\u001b[0m 6ms/step - accuracy: 0.9791 - loss: 0.0694 - val_accuracy: 0.8876 - val_loss: 0.4295\n",
            "Epoch 7/10\n",
            "\u001b[1m1080/1080\u001b[0m \u001b[32m━━━━━━━━━━━━━━━━━━━━\u001b[0m\u001b[37m\u001b[0m \u001b[1m14s\u001b[0m 10ms/step - accuracy: 0.9878 - loss: 0.0427 - val_accuracy: 0.8857 - val_loss: 0.4795\n",
            "Epoch 8/10\n",
            "\u001b[1m1080/1080\u001b[0m \u001b[32m━━━━━━━━━━━━━━━━━━━━\u001b[0m\u001b[37m\u001b[0m \u001b[1m4s\u001b[0m 4ms/step - accuracy: 0.9920 - loss: 0.0278 - val_accuracy: 0.8858 - val_loss: 0.5181\n",
            "Epoch 9/10\n",
            "\u001b[1m1080/1080\u001b[0m \u001b[32m━━━━━━━━━━━━━━━━━━━━\u001b[0m\u001b[37m\u001b[0m \u001b[1m6s\u001b[0m 5ms/step - accuracy: 0.9943 - loss: 0.0210 - val_accuracy: 0.8865 - val_loss: 0.5548\n",
            "Epoch 10/10\n",
            "\u001b[1m1080/1080\u001b[0m \u001b[32m━━━━━━━━━━━━━━━━━━━━\u001b[0m\u001b[37m\u001b[0m \u001b[1m9s\u001b[0m 8ms/step - accuracy: 0.9950 - loss: 0.0183 - val_accuracy: 0.8857 - val_loss: 0.5809\n",
            "Training Accuracy: 0.9851\n",
            "Testing Accuracy:  0.8883\n"
          ]
        },
        {
          "output_type": "display_data",
          "data": {
            "text/plain": [
              "<Figure size 1200x500 with 2 Axes>"
            ],
            "image/png": "[encoded data removed]"
          },
          "metadata": {}
        }
      ],
      "source": [
        "vocab_size = X_train_tfidf.shape[1]\n",
        "num_labels = 4\n",
        "batch_size = 100\n",
        "# Neural network on TFIDF\n",
        "model = models.Sequential()\n",
        "model.add(layers.Dense(512, input_shape=(vocab_size,)))\n",
        "model.add(layers.Activation('relu'))\n",
        "model.add(layers.Dense(4))\n",
        "model.add(layers.Activation('softmax'))\n",
        "# model.summary()\n",
        "\n",
        "model.compile(loss='categorical_crossentropy',\n",
        "              optimizer='adam',\n",
        "              metrics=['accuracy'])\n",
        "\n",
        "history = model.fit(X_train_tfidf, y_train_bi,\n",
        "                    batch_size=batch_size,\n",
        "                    epochs=10,\n",
        "                    validation_split=0.1,\n",
        "                    verbose=1)\n",
        "\n",
        "loss, accuracy = model.evaluate(X_train_tfidf, y_train_bi, verbose=False)\n",
        "print(\"Training Accuracy: {:.4f}\".format(accuracy))\n",
        "loss, accuracy = model.evaluate(X_test_tfidf, y_test_bi, verbose=False)\n",
        "print(\"Testing Accuracy:  {:.4f}\".format(accuracy))\n",
        "\n",
        "plot_history(history)\n"
      ],
      "metadata": {
        "pycharm": {
          "name": "#%%\n",
          "is_executing": false
        },
        "colab": {
          "base_uri": "https://localhost:8080/",
          "height": 759
        },
        "id": "uz8wEvvzwAAS",
        "outputId": "2db5802e-221f-4661-cfed-6ffd06ce3ff3"
      }
    },
    {
      "cell_type": "code",
      "execution_count": null,
      "outputs": [],
      "source": [
        "from tensorflow.keras.preprocessing.text import Tokenizer, text_to_word_sequence\n",
        "from tensorflow.keras.preprocessing.sequence import pad_sequences\n",
        "vocab_size = 15000\n",
        "num_labels = 4\n",
        "batch_size = 100\n",
        "maxlen = 200\n",
        "\n",
        "tokenizer =Tokenizer(num_words=vocab_size)\n",
        "tokenizer.fit_on_texts(X_train)\n",
        "\n",
        "X_train_token = tokenizer.texts_to_sequences(X_train)\n",
        "X_test_token = tokenizer.texts_to_sequences(X_test)\n",
        "\n",
        "vocab_size = len(tokenizer.word_index) + 1  # Adding again 1 because of reserved 0 index\n",
        "\n",
        "X_train_token = pad_sequences(X_train_token, padding='post', maxlen=maxlen)\n",
        "X_test_token = pad_sequences(X_test_token, padding='post', maxlen=maxlen)\n",
        "embedding_dim = 300"
      ],
      "metadata": {
        "pycharm": {
          "name": "#%%\n",
          "is_executing": false
        },
        "id": "NZFKJPf7wAAS"
      }
    },
    {
      "cell_type": "code",
      "execution_count": null,
      "outputs": [
        {
          "output_type": "stream",
          "name": "stdout",
          "text": [
            "0.7124692438528989\n"
          ]
        }
      ],
      "source": [
        "# create embedding matrix using pre-trained word vectors\n",
        "def create_embedding_matrix(filepath, word_index, embedding_dim):\n",
        "    embedding_matrix = numpy.zeros((vocab_size, embedding_dim))\n",
        "\n",
        "    with open(filepath,'r', encoding='utf-8', newline='\\n', errors='ignore') as f:\n",
        "        for line in f:\n",
        "            word, *vector = line.split()\n",
        "            if word in word_index:\n",
        "                idx = word_index[word]\n",
        "                embedding_matrix[idx] = numpy.array(\n",
        "                    vector, dtype=numpy.float32)[:embedding_dim]\n",
        "\n",
        "    return embedding_matrix\n",
        "\n",
        "#basic new word embed\n",
        "embedding_matrix = create_embedding_matrix('glove.6B.300d.txt',tokenizer.word_index, embedding_dim)\n",
        "nonzero_elements = numpy.count_nonzero(numpy.count_nonzero(embedding_matrix, axis=1))\n",
        "print(nonzero_elements / vocab_size)\n"
      ],
      "metadata": {
        "pycharm": {
          "name": "#%%\n",
          "is_executing": false
        },
        "colab": {
          "base_uri": "https://localhost:8080/"
        },
        "id": "hu0FVqHkwAAS",
        "outputId": "c4b5ab93-eb6a-4d1b-dc8b-824f83cf63ec"
      }
    },
    {
      "cell_type": "code",
      "execution_count": null,
      "outputs": [
        {
          "output_type": "stream",
          "name": "stderr",
          "text": [
            "/usr/local/lib/python3.10/dist-packages/keras/src/layers/core/embedding.py:90: UserWarning: Argument `input_length` is deprecated. Just remove it.\n",
            "  warnings.warn(\n"
          ]
        },
        {
          "output_type": "stream",
          "name": "stdout",
          "text": [
            "Epoch 1/10\n",
            "\u001b[1m1080/1080\u001b[0m \u001b[32m━━━━━━━━━━━━━━━━━━━━\u001b[0m\u001b[37m\u001b[0m \u001b[1m10s\u001b[0m 7ms/step - accuracy: 0.8216 - loss: 0.5049 - val_accuracy: 0.8986 - val_loss: 0.2871\n",
            "Epoch 2/10\n",
            "\u001b[1m1080/1080\u001b[0m \u001b[32m━━━━━━━━━━━━━━━━━━━━\u001b[0m\u001b[37m\u001b[0m \u001b[1m8s\u001b[0m 7ms/step - accuracy: 0.9167 - loss: 0.2460 - val_accuracy: 0.8942 - val_loss: 0.3024\n",
            "Epoch 3/10\n",
            "\u001b[1m1080/1080\u001b[0m \u001b[32m━━━━━━━━━━━━━━━━━━━━\u001b[0m\u001b[37m\u001b[0m \u001b[1m7s\u001b[0m 7ms/step - accuracy: 0.9412 - loss: 0.1728 - val_accuracy: 0.8997 - val_loss: 0.2909\n",
            "Epoch 4/10\n",
            "\u001b[1m1080/1080\u001b[0m \u001b[32m━━━━━━━━━━━━━━━━━━━━\u001b[0m\u001b[37m\u001b[0m \u001b[1m7s\u001b[0m 7ms/step - accuracy: 0.9605 - loss: 0.1169 - val_accuracy: 0.8965 - val_loss: 0.3310\n",
            "Epoch 5/10\n",
            "\u001b[1m1080/1080\u001b[0m \u001b[32m━━━━━━━━━━━━━━━━━━━━\u001b[0m\u001b[37m\u001b[0m \u001b[1m8s\u001b[0m 8ms/step - accuracy: 0.9737 - loss: 0.0781 - val_accuracy: 0.8908 - val_loss: 0.4008\n",
            "Epoch 6/10\n",
            "\u001b[1m1080/1080\u001b[0m \u001b[32m━━━━━━━━━━━━━━━━━━━━\u001b[0m\u001b[37m\u001b[0m \u001b[1m7s\u001b[0m 6ms/step - accuracy: 0.9847 - loss: 0.0460 - val_accuracy: 0.8912 - val_loss: 0.4526\n",
            "Epoch 7/10\n",
            "\u001b[1m1080/1080\u001b[0m \u001b[32m━━━━━━━━━━━━━━━━━━━━\u001b[0m\u001b[37m\u001b[0m \u001b[1m11s\u001b[0m 7ms/step - accuracy: 0.9889 - loss: 0.0342 - val_accuracy: 0.8754 - val_loss: 0.5942\n",
            "Epoch 8/10\n",
            "\u001b[1m1080/1080\u001b[0m \u001b[32m━━━━━━━━━━━━━━━━━━━━\u001b[0m\u001b[37m\u001b[0m \u001b[1m7s\u001b[0m 6ms/step - accuracy: 0.9925 - loss: 0.0232 - val_accuracy: 0.8717 - val_loss: 0.5857\n",
            "Epoch 9/10\n",
            "\u001b[1m1080/1080\u001b[0m \u001b[32m━━━━━━━━━━━━━━━━━━━━\u001b[0m\u001b[37m\u001b[0m \u001b[1m11s\u001b[0m 7ms/step - accuracy: 0.9920 - loss: 0.0247 - val_accuracy: 0.8799 - val_loss: 0.6392\n",
            "Epoch 10/10\n",
            "\u001b[1m1080/1080\u001b[0m \u001b[32m━━━━━━━━━━━━━━━━━━━━\u001b[0m\u001b[37m\u001b[0m \u001b[1m10s\u001b[0m 7ms/step - accuracy: 0.9934 - loss: 0.0198 - val_accuracy: 0.8909 - val_loss: 0.5916\n",
            "Training Accuracy: 0.9860\n",
            "Testing Accuracy:  0.9008\n"
          ]
        }
      ],
      "source": [
        "# Shallow neural network basic with word embedding matrix\n",
        "embedding_dim = 300\n",
        "\n",
        "model = models.Sequential()\n",
        "model.add(layers.Embedding(input_dim=vocab_size,\n",
        "                           output_dim=embedding_dim,\n",
        "                           weights=[embedding_matrix],\n",
        "                           input_length=maxlen,\n",
        "                           trainable=True))\n",
        "model.add(layers.GlobalMaxPool1D())\n",
        "model.add(layers.Dense(512, input_shape=(vocab_size,)))\n",
        "model.add(layers.Activation('relu'))\n",
        "model.add(layers.Dense(4))\n",
        "model.add(layers.Activation('softmax'))\n",
        "# model.summary()\n",
        "\n",
        "model.compile(loss='categorical_crossentropy',\n",
        "              optimizer='adam',\n",
        "              metrics=['accuracy'])\n",
        "\n",
        "history = model.fit(X_train_token, y_train_bi,\n",
        "                    batch_size=batch_size,\n",
        "                    epochs=10,\n",
        "                    validation_split=0.1,\n",
        "                    verbose=1)\n",
        "\n",
        "loss, accuracy = model.evaluate(X_train_token, y_train_bi, verbose=False)\n",
        "print(\"Training Accuracy: {:.4f}\".format(accuracy))\n",
        "loss, accuracy = model.evaluate(X_test_token, y_test_bi, verbose=False)\n",
        "print(\"Testing Accuracy:  {:.4f}\".format(accuracy))\n"
      ],
      "metadata": {
        "pycharm": {
          "name": "#%%\n",
          "is_executing": false
        },
        "colab": {
          "base_uri": "https://localhost:8080/"
        },
        "id": "YjYtGS4hwAAT",
        "outputId": "77da6193-7f65-4d3a-8626-6fea8d245d4d"
      }
    },
    {
      "cell_type": "code",
      "execution_count": null,
      "outputs": [
        {
          "output_type": "display_data",
          "data": {
            "text/plain": [
              "<Figure size 1200x500 with 2 Axes>"
            ],
            "image/png": "[encoded data removed]"
          },
          "metadata": {}
        }
      ],
      "source": [
        "plot_history(history)"
      ],
      "metadata": {
        "pycharm": {
          "name": "#%%\n",
          "is_executing": false
        },
        "colab": {
          "base_uri": "https://localhost:8080/",
          "height": 323
        },
        "id": "NOWQq6X9wAAT",
        "outputId": "e67d2316-a98b-4a1c-a195-28e51cc4ec9d"
      }
    },
    {
      "cell_type": "markdown",
      "source": [
        "### Deep neural network\n",
        "I have used keras for setting up the deep neural network.\n",
        "\n",
        "#### Convolutional Neural Network (Covnets)\n",
        "\n"
      ],
      "metadata": {
        "collapsed": false,
        "pycharm": {
          "name": "#%% md\n"
        },
        "id": "xarjR5vNwAAT"
      }
    },
    {
      "cell_type": "code",
      "execution_count": null,
      "outputs": [
        {
          "output_type": "stream",
          "name": "stdout",
          "text": [
            "Epoch 1/10\n",
            "\u001b[1m3600/3600\u001b[0m \u001b[32m━━━━━━━━━━━━━━━━━━━━\u001b[0m\u001b[37m\u001b[0m \u001b[1m38s\u001b[0m 9ms/step - accuracy: 0.8632 - loss: 0.3956 - val_accuracy: 0.9033 - val_loss: 0.2617\n",
            "Epoch 2/10\n",
            "\u001b[1m3600/3600\u001b[0m \u001b[32m━━━━━━━━━━━━━━━━━━━━\u001b[0m\u001b[37m\u001b[0m \u001b[1m35s\u001b[0m 8ms/step - accuracy: 0.9223 - loss: 0.2283 - val_accuracy: 0.9117 - val_loss: 0.2561\n",
            "Epoch 3/10\n",
            "\u001b[1m3600/3600\u001b[0m \u001b[32m━━━━━━━━━━━━━━━━━━━━\u001b[0m\u001b[37m\u001b[0m \u001b[1m41s\u001b[0m 8ms/step - accuracy: 0.9379 - loss: 0.1743 - val_accuracy: 0.9068 - val_loss: 0.2664\n",
            "Epoch 4/10\n",
            "\u001b[1m3600/3600\u001b[0m \u001b[32m━━━━━━━━━━━━━━━━━━━━\u001b[0m\u001b[37m\u001b[0m \u001b[1m41s\u001b[0m 9ms/step - accuracy: 0.9520 - loss: 0.1307 - val_accuracy: 0.9070 - val_loss: 0.3166\n",
            "Epoch 5/10\n",
            "\u001b[1m3600/3600\u001b[0m \u001b[32m━━━━━━━━━━━━━━━━━━━━\u001b[0m\u001b[37m\u001b[0m \u001b[1m41s\u001b[0m 9ms/step - accuracy: 0.9614 - loss: 0.1028 - val_accuracy: 0.9028 - val_loss: 0.3730\n",
            "Epoch 6/10\n",
            "\u001b[1m3600/3600\u001b[0m \u001b[32m━━━━━━━━━━━━━━━━━━━━\u001b[0m\u001b[37m\u001b[0m \u001b[1m30s\u001b[0m 8ms/step - accuracy: 0.9699 - loss: 0.0788 - val_accuracy: 0.9013 - val_loss: 0.4156\n",
            "Epoch 7/10\n",
            "\u001b[1m3600/3600\u001b[0m \u001b[32m━━━━━━━━━━━━━━━━━━━━\u001b[0m\u001b[37m\u001b[0m \u001b[1m42s\u001b[0m 9ms/step - accuracy: 0.9755 - loss: 0.0667 - val_accuracy: 0.9018 - val_loss: 0.4522\n",
            "Epoch 8/10\n",
            "\u001b[1m3600/3600\u001b[0m \u001b[32m━━━━━━━━━━━━━━━━━━━━\u001b[0m\u001b[37m\u001b[0m \u001b[1m30s\u001b[0m 8ms/step - accuracy: 0.9787 - loss: 0.0582 - val_accuracy: 0.8993 - val_loss: 0.5477\n",
            "Epoch 9/10\n",
            "\u001b[1m3600/3600\u001b[0m \u001b[32m━━━━━━━━━━━━━━━━━━━━\u001b[0m\u001b[37m\u001b[0m \u001b[1m30s\u001b[0m 8ms/step - accuracy: 0.9822 - loss: 0.0498 - val_accuracy: 0.9022 - val_loss: 0.5850\n",
            "Epoch 10/10\n",
            "\u001b[1m3600/3600\u001b[0m \u001b[32m━━━━━━━━━━━━━━━━━━━━\u001b[0m\u001b[37m\u001b[0m \u001b[1m40s\u001b[0m 8ms/step - accuracy: 0.9832 - loss: 0.0465 - val_accuracy: 0.8997 - val_loss: 0.5966\n",
            "Training Accuracy: 0.9857\n",
            "Testing Accuracy:  0.9063\n"
          ]
        }
      ],
      "source": [
        "# Deep Neural networks CNN\n",
        "model = models.Sequential()\n",
        "model.add(layers.Embedding(input_dim=vocab_size,\n",
        "                           output_dim=embedding_dim,\n",
        "                           weights=[embedding_matrix],\n",
        "                           input_length=maxlen,\n",
        "                           trainable=True))\n",
        "model.add(layers.SpatialDropout1D(0.3))\n",
        "model.add(layers.Conv1D(128, 5, activation='relu'))\n",
        "model.add(layers.GlobalMaxPool1D())\n",
        "model.add(layers.Dense(256))\n",
        "model.add(layers.Activation('relu'))\n",
        "model.add(layers.Dropout(0.25))\n",
        "model.add(layers.Dense(4))\n",
        "model.add(layers.Activation('softmax'))\n",
        "# model.summary()\n",
        "\n",
        "model.compile(loss='categorical_crossentropy',\n",
        "              optimizer='adam',\n",
        "              metrics=['accuracy'])\n",
        "\n",
        "history = model.fit(X_train_token, y_train_bi,\n",
        "                    batch_size=30,\n",
        "                    epochs=10,\n",
        "                    validation_split=0.1,\n",
        "                    verbose=1)\n",
        "\n",
        "loss, accuracy = model.evaluate(X_train_token, y_train_bi, verbose=False)\n",
        "print(\"Training Accuracy: {:.4f}\".format(accuracy))\n",
        "loss, accuracy = model.evaluate(X_test_token, y_test_bi, verbose=False)\n",
        "print(\"Testing Accuracy:  {:.4f}\".format(accuracy))"
      ],
      "metadata": {
        "pycharm": {
          "name": "#%%\n",
          "is_executing": false
        },
        "colab": {
          "base_uri": "https://localhost:8080/"
        },
        "id": "r3UQSNqBwAAT",
        "outputId": "34f798e3-5631-44d3-918d-a7335451527a"
      }
    },
    {
      "cell_type": "markdown",
      "source": [
        "#### Recurrent Neural Network Bidirectional GRU\n"
      ],
      "metadata": {
        "collapsed": false,
        "pycharm": {
          "name": "#%% md\n"
        },
        "id": "UAtst2CkwAAU"
      }
    },
    {
      "cell_type": "code",
      "execution_count": null,
      "outputs": [
        {
          "output_type": "stream",
          "name": "stderr",
          "text": [
            "/usr/local/lib/python3.10/dist-packages/keras/src/layers/core/embedding.py:90: UserWarning: Argument `input_length` is deprecated. Just remove it.\n",
            "  warnings.warn(\n"
          ]
        },
        {
          "output_type": "stream",
          "name": "stdout",
          "text": [
            "Epoch 1/5\n"
          ]
        },
        {
          "output_type": "stream",
          "name": "stderr",
          "text": [
            "/usr/local/lib/python3.10/dist-packages/keras/src/layers/core/dense.py:87: UserWarning: Do not pass an `input_shape`/`input_dim` argument to a layer. When using Sequential models, prefer using an `Input(shape)` object as the first layer in the model instead.\n",
            "  super().__init__(activity_regularizer=activity_regularizer, **kwargs)\n"
          ]
        },
        {
          "output_type": "stream",
          "name": "stdout",
          "text": [
            "\u001b[1m1080/1080\u001b[0m \u001b[32m━━━━━━━━━━━━━━━━━━━━\u001b[0m\u001b[37m\u001b[0m \u001b[1m53s\u001b[0m 44ms/step - accuracy: 0.8422 - loss: 0.4337 - val_accuracy: 0.9101 - val_loss: 0.2494\n",
            "Epoch 2/5\n",
            "\u001b[1m1080/1080\u001b[0m \u001b[32m━━━━━━━━━━━━━━━━━━━━\u001b[0m\u001b[37m\u001b[0m \u001b[1m77s\u001b[0m 42ms/step - accuracy: 0.9210 - loss: 0.2283 - val_accuracy: 0.9135 - val_loss: 0.2419\n",
            "Epoch 3/5\n",
            "\u001b[1m1080/1080\u001b[0m \u001b[32m━━━━━━━━━━━━━━━━━━━━\u001b[0m\u001b[37m\u001b[0m \u001b[1m82s\u001b[0m 43ms/step - accuracy: 0.9360 - loss: 0.1809 - val_accuracy: 0.9084 - val_loss: 0.2527\n",
            "Epoch 4/5\n",
            "\u001b[1m1080/1080\u001b[0m \u001b[32m━━━━━━━━━━━━━━━━━━━━\u001b[0m\u001b[37m\u001b[0m \u001b[1m82s\u001b[0m 42ms/step - accuracy: 0.9479 - loss: 0.1442 - val_accuracy: 0.9078 - val_loss: 0.2759\n",
            "Epoch 5/5\n",
            "\u001b[1m1080/1080\u001b[0m \u001b[32m━━━━━━━━━━━━━━━━━━━━\u001b[0m\u001b[37m\u001b[0m \u001b[1m82s\u001b[0m 42ms/step - accuracy: 0.9587 - loss: 0.1136 - val_accuracy: 0.9090 - val_loss: 0.2959\n",
            "Training Accuracy: 0.9683\n",
            "Testing Accuracy:  0.9163\n"
          ]
        }
      ],
      "source": [
        "# Bi directional rnn gru\n",
        "\n",
        "model = models.Sequential()\n",
        "model.add(layers.Embedding(input_dim=vocab_size,\n",
        "                           output_dim=embedding_dim,\n",
        "                           weights=[embedding_matrix],\n",
        "                           input_length=maxlen,\n",
        "                           trainable=True))\n",
        "model.add(layers.SpatialDropout1D(0.3))\n",
        "model.add(layers.Bidirectional(layers.GRU(100)))\n",
        "model.add(layers.Dense(512, input_shape=(vocab_size,)))\n",
        "model.add(layers.Activation('relu'))\n",
        "model.add(layers.Dropout(0.25))\n",
        "model.add(layers.Dense(4))\n",
        "model.add(layers.Activation('softmax'))\n",
        "# model.summary()\n",
        "model.compile(loss='categorical_crossentropy',\n",
        "              optimizer='adam',\n",
        "              metrics=['accuracy'])\n",
        "\n",
        "history = model.fit(X_train_token, y_train_bi,\n",
        "                    batch_size=batch_size,\n",
        "                    epochs=5,\n",
        "                    validation_split=0.1,\n",
        "                    verbose=1)\n",
        "\n",
        "loss, accuracy = model.evaluate(X_train_token, y_train_bi, verbose=False)\n",
        "print(\"Training Accuracy: {:.4f}\".format(accuracy))\n",
        "loss, accuracy = model.evaluate(X_test_token, y_test_bi, verbose=False)\n",
        "print(\"Testing Accuracy:  {:.4f}\".format(accuracy))"
      ],
      "metadata": {
        "pycharm": {
          "name": "#%%\n",
          "is_executing": false
        },
        "colab": {
          "base_uri": "https://localhost:8080/"
        },
        "id": "15IjD_AFwAAU",
        "outputId": "baee2b05-9eb1-4231-eedc-4fd042002893"
      }
    },
    {
      "cell_type": "markdown",
      "source": [
        "### Saving Model\n",
        "#### Save the model as well as tokenizer.\n",
        "\n",
        "We have to save our tokenizer because it is our vocabulary. The same tokenizer and vocabulary have to be used for accurate prediction."
      ],
      "metadata": {
        "collapsed": false,
        "pycharm": {
          "name": "#%% md\n"
        },
        "id": "crwmqwrTwAAU"
      }
    },
    {
      "cell_type": "code",
      "execution_count": null,
      "outputs": [
        {
          "output_type": "stream",
          "name": "stderr",
          "text": [
            "WARNING:absl:You are saving your model as an HDF5 file via `model.save()` or `keras.saving.save_model(model)`. This file format is considered legacy. We recommend using instead the native Keras format, e.g. `model.save('my_model.keras')` or `keras.saving.save_model(model, 'my_model.keras')`. \n"
          ]
        }
      ],
      "source": [
        "# creates a HDF5 file 'my_model.h5'\n",
        "model.save('my_model.h5')\n",
        "\n",
        "# Save Tokenizer i.e. Vocabulary\n",
        "with open('tokenizer.pickle', 'wb') as handle:\n",
        "    pickle.dump(tokenizer, handle, protocol=pickle.HIGHEST_PROTOCOL)"
      ],
      "metadata": {
        "pycharm": {
          "name": "#%%\n",
          "is_executing": false
        },
        "colab": {
          "base_uri": "https://localhost:8080/"
        },
        "id": "BHFUyi_swAAU",
        "outputId": "7fd8102f-a43f-435f-898f-32a1d1bb2c83"
      }
    },
    {
      "cell_type": "markdown",
      "source": [
        "### Result\n",
        "The model that gave me the best performance on the test data is was Bidirectional RNN gru with an accuracy of 91.63 % with 5 epochs. The model can be used to process any document and predict a class for it. Using some random news articles on the internet I found the predictions fairly correct.\n",
        "\n",
        "### Conclusion\n",
        "While the classical models provided a good accuracy the neural network models improved it further. With more data the deep learning models will outmatch classical models. Using word embedding provided an additional 2-3% improvement in accuracy and faster training time. RNN provided the best performance in neural networks but CNN still had good results."
      ],
      "metadata": {
        "collapsed": false,
        "id": "wm1C356lwAAU"
      }
    },
    {
      "cell_type": "markdown",
      "source": [
        "#### Loading the best model"
      ],
      "metadata": {
        "collapsed": false,
        "pycharm": {
          "name": "#%% md\n"
        },
        "id": "JDSCiCDdwAAU"
      }
    },
    {
      "cell_type": "code",
      "execution_count": 22,
      "outputs": [
        {
          "output_type": "stream",
          "name": "stderr",
          "text": [
            "WARNING:absl:Compiled the loaded model, but the compiled metrics have yet to be built. `model.compile_metrics` will be empty until you train or evaluate the model.\n"
          ]
        }
      ],
      "source": [
        "from tensorflow.keras.models import load_model #Import the load_model function from Keras\n",
        "from tensorflow.keras.preprocessing import text, sequence\n",
        "\n",
        "final_model = load_model('my_model.h5')\n",
        "\n",
        "# load tokenizer\n",
        "tokenizer = text.Tokenizer()\n",
        "with open('tokenizer.pickle', 'rb') as handle:\n",
        "    tokenizer = pickle.load(handle)\n",
        "\n",
        "maxlen=100\n"
      ],
      "metadata": {
        "pycharm": {
          "name": "#%%\n",
          "is_executing": false
        },
        "id": "TMqxPfS1wAAU",
        "outputId": "723702bc-ce0c-40a3-db5b-bcae1eec41cb",
        "colab": {
          "base_uri": "https://localhost:8080/"
        }
      }
    },
    {
      "cell_type": "code",
      "execution_count": 23,
      "outputs": [
        {
          "output_type": "stream",
          "name": "stdout",
          "text": [
            "\u001b[1m1/1\u001b[0m \u001b[32m━━━━━━━━━━━━━━━━━━━━\u001b[0m\u001b[37m\u001b[0m \u001b[1m2s\u001b[0m 2s/step\n",
            "Predicted label: Sports\n"
          ]
        }
      ],
      "source": [
        "class_dict = {'0': 'World', '1': 'Sports','2': 'Business','3': 'Sci/Tech'}\n",
        "inp = [\"Former opener Aakash Chopra has revealed how the relationship between Sourav Ganguly and coach John Buchanan turned strenuous at Kolkata Knight Riders, to an extent that the former Australia coach wanted to remove the ex-India skipper as the captain of the side. Chopra, who was with KKR in 2008, said Buchanan and Ganguly started off a decent note before the relationship turned frosty over time as the team finished sixth in the first season.“In the first year of IPL, there was John Buchanan [as coach], [fellow Australian] Ricky Ponting was also there. Sourav Ganguly was the captain. I have seen this from close quarters – their relationship was alright to begin with, but it worsened [with time],” Chopra said on his YouTube channel.\"]\n",
        "inp = [perform_preprocessing(x) for x in inp]\n",
        "inp_token = tokenizer.texts_to_sequences(inp)\n",
        "inp_token = sequence.pad_sequences(inp_token, padding='post', maxlen=maxlen)\n",
        "\n",
        "out = final_model.predict(inp_token)\n",
        "predicted_label = numpy.argmax(out)\n",
        "print(\"Predicted label: \" + class_dict.get(str(predicted_label)))"
      ],
      "metadata": {
        "pycharm": {
          "name": "#%%\n",
          "is_executing": false
        },
        "id": "_Lvg_D_7wAAU",
        "outputId": "123096b9-8177-4819-8a25-0a0c7890f580",
        "colab": {
          "base_uri": "https://localhost:8080/"
        }
      }
    }
  ],
  "metadata": {
    "kernelspec": {
      "display_name": "Python 3",
      "name": "python3"
    },
    "language_info": {
      "codemirror_mode": {
        "name": "ipython",
        "version": 2
      },
      "file_extension": ".py",
      "mimetype": "text/x-python",
      "name": "python",
      "nbconvert_exporter": "python",
      "pygments_lexer": "ipython2",
      "version": "2.7.6"
    },
    "pycharm": {
      "stem_cell": {
        "cell_type": "raw",
        "source": [],
        "metadata": {
          "collapsed": false
        }
      }
    },
    "colab": {
      "provenance": [],
      "gpuType": "T4"
    },
    "accelerator": "GPU"
  },
  "nbformat": 4,
  "nbformat_minor": 0
}